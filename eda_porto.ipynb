{
  "cells": [
    {
      "cell_type": "code",
      "execution_count": 1,
      "metadata": {},
      "outputs": [],
      "source": [
        "# Read dataset\n",
        "import pandas as pd\n",
        "df = pd.read_csv(\"porto.csv\")"
      ]
    },
    {
      "cell_type": "code",
      "execution_count": 4,
      "metadata": {},
      "outputs": [],
      "source": [
        "df.head(10)"
      ]
    },
    {
      "cell_type": "code",
      "execution_count": null,
      "metadata": {},
      "outputs": [],
      "source": [
        "# EDA: TRIP_ID validation and total trips\n",
        "\n",
        "# Total number of rows (trips)\n",
        "total_rows = len(df)\n",
        "\n",
        "# TRIP_ID: expect 19-digit numeric IDs\n",
        "trip_id_str = df['TRIP_ID'].astype('string')\n",
        "trip_id_is_19_digits = trip_id_str.str.fullmatch(r'\\d{19}')\n",
        "valid_19 = int(trip_id_is_19_digits.sum())\n",
        "invalid_19 = int((~trip_id_is_19_digits).sum())\n",
        "unique_trip_ids = df['TRIP_ID'].nunique(dropna=True)\n",
        "\n",
        "# Duplicate TRIP_ID analysis\n",
        "duplicate_rows = total_rows - unique_trip_ids\n",
        "trip_id_counts = df['TRIP_ID'].value_counts(dropna=False)\n",
        "duplicated_trip_ids = trip_id_counts[trip_id_counts > 1]\n",
        "\n",
        "print(f\"Total trips (rows): {total_rows}\")\n",
        "print(\"TRIP_ID validation (expecting 19-digit numeric):\")\n",
        "print(f\"  Valid 19-digit TRIP_IDs: {valid_19}\")\n",
        "print(f\"  Invalid TRIP_IDs (not 19 digits): {invalid_19}\")\n",
        "print(f\"  Unique TRIP_IDs: {unique_trip_ids}\")\n",
        "print(f\"  Duplicate rows (same TRIP_ID appearing multiple times): {duplicate_rows}\")\n",
        "\n",
        "if duplicated_trip_ids.empty:\n",
        "    print(\"No duplicated TRIP_IDs detected.\")\n",
        "else:\n",
        "    print(\"Top duplicated TRIP_IDs (count > 1):\")\n",
        "    print(duplicated_trip_ids.head(10))\n",
        "\n",
        "    # Assess whether duplicates are true copies (identical across other columns) or conflicting\n",
        "    dups = df[df.duplicated('TRIP_ID', keep=False)].copy()\n",
        "    grouped = dups.groupby('TRIP_ID', sort=False)\n",
        "\n",
        "    # Number of unique rows per TRIP_ID when excluding TRIP_ID itself\n",
        "    unique_rows_per_trip = grouped.apply(lambda g: g.drop(columns=['TRIP_ID']).drop_duplicates().shape[0])\n",
        "\n",
        "    true_copy_trip_ids = unique_rows_per_trip[unique_rows_per_trip == 1].index\n",
        "    conflict_trip_ids = unique_rows_per_trip[unique_rows_per_trip > 1].index\n",
        "\n",
        "    num_trip_ids_true_copies = len(true_copy_trip_ids)\n",
        "    num_trip_ids_conflicts = len(conflict_trip_ids)\n",
        "\n",
        "    # Rows that can be safely removed among true copies (keep 1 per TRIP_ID)\n",
        "    removable_rows_true_copies = int(grouped.size().loc[true_copy_trip_ids].sub(1).sum()) if num_trip_ids_true_copies > 0 else 0\n",
        "\n",
        "    # Among conflicts, how many have differing TAXI_IDs\n",
        "    differing_taxi_conflicts = 0\n",
        "    if num_trip_ids_conflicts > 0:\n",
        "        differing_taxi_conflicts = int(grouped['TAXI_ID'].nunique().loc[conflict_trip_ids].gt(1).sum())\n",
        "\n",
        "    print(\"\\nDuplicate TRIP_ID diagnostics:\")\n",
        "    print(f\"  TRIP_IDs that are true copies (all other columns identical): {num_trip_ids_true_copies}\")\n",
        "    print(f\"  Removable duplicate rows among true copies: {removable_rows_true_copies}\")\n",
        "    print(f\"  TRIP_IDs with conflicting data (differences in other columns): {num_trip_ids_conflicts}\")\n",
        "    print(f\"    of which have differing TAXI_IDs: {differing_taxi_conflicts}\")\n",
        "\n",
        "    # Show a few examples of conflicting TRIP_IDs with their distinct rows\n",
        "    if num_trip_ids_conflicts > 0:\n",
        "        print(\"\\nExamples of conflicting TRIP_IDs (distinct rows shown, up to 3 IDs):\")\n",
        "        for tid in list(conflict_trip_ids)[:3]:\n",
        "            ex = grouped.get_group(tid).drop(columns=['TRIP_ID']).drop_duplicates()\n",
        "            print(f\"  TRIP_ID={tid} -> {len(ex)} distinct rows:\")\n",
        "            print(ex.head(5))\n"
      ]
    }
  ],
  "metadata": {
    "kernelspec": {
      "display_name": "venv",
      "language": "python",
      "name": "python3"
    },
    "language_info": {
      "codemirror_mode": {
        "name": "ipython",
        "version": 3
      },
      "file_extension": ".py",
      "mimetype": "text/x-python",
      "name": "python",
      "nbconvert_exporter": "python",
      "pygments_lexer": "ipython3",
      "version": "3.9.1"
    }
  },
  "nbformat": 4,
  "nbformat_minor": 2
}
